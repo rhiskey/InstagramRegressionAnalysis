{
 "cells": [
  {
   "cell_type": "code",
   "execution_count": 11,
   "metadata": {
    "collapsed": true,
    "pycharm": {
     "name": "#%%\n"
    }
   },
   "outputs": [],
   "source": [
    "import pandas as pd\n",
    "import numpy as np\n",
    "import matplotlib.pyplot as plt\n",
    "import seaborn as sns\n",
    "import plotly.express as px\n",
    "from wordcloud import WordCloud, STOPWORDS, ImageColorGenerator\n",
    "from sklearn.model_selection import train_test_split\n",
    "from sklearn.linear_model import PassiveAggressiveRegressor"
   ]
  },
  {
   "cell_type": "markdown",
   "source": [
    "# Загрузка датасета"
   ],
   "metadata": {
    "collapsed": false,
    "pycharm": {
     "name": "#%% md\n"
    }
   }
  },
  {
   "cell_type": "code",
   "execution_count": 12,
   "outputs": [
    {
     "data": {
      "text/plain": "   Impressions  From Home  From Hashtags  From Explore  From Other  Saves  \\\n0       3920.0     2586.0         1028.0         619.0        56.0   98.0   \n1       5394.0     2727.0         1838.0        1174.0        78.0  194.0   \n2       4021.0     2085.0         1188.0           0.0       533.0   41.0   \n3       4528.0     2700.0          621.0         932.0        73.0  172.0   \n4       2518.0     1704.0          255.0         279.0        37.0   96.0   \n\n   Comments  Shares  Likes  Profile Visits  Follows  \\\n0       9.0     5.0  162.0            35.0      2.0   \n1       7.0    14.0  224.0            48.0     10.0   \n2      11.0     1.0  131.0            62.0     12.0   \n3      10.0     7.0  213.0            23.0      8.0   \n4       5.0     4.0  123.0             8.0      0.0   \n\n                                             Caption  \\\n0  Here are some of the most important data visua...   \n1  Here are some of the best data science project...   \n2  Learn how to train a machine learning model an...   \n3  Heres how you can write a Python program to d...   \n4  Plotting annotations while visualizing your da...   \n\n                                            Hashtags  \n0  #finance #money #business #investing #investme...  \n1  #healthcare #health #covid #data #datascience ...  \n2  #data #datascience #dataanalysis #dataanalytic...  \n3  #python #pythonprogramming #pythonprojects #py...  \n4  #datavisualization #datascience #data #dataana...  ",
      "text/html": "<div>\n<style scoped>\n    .dataframe tbody tr th:only-of-type {\n        vertical-align: middle;\n    }\n\n    .dataframe tbody tr th {\n        vertical-align: top;\n    }\n\n    .dataframe thead th {\n        text-align: right;\n    }\n</style>\n<table border=\"1\" class=\"dataframe\">\n  <thead>\n    <tr style=\"text-align: right;\">\n      <th></th>\n      <th>Impressions</th>\n      <th>From Home</th>\n      <th>From Hashtags</th>\n      <th>From Explore</th>\n      <th>From Other</th>\n      <th>Saves</th>\n      <th>Comments</th>\n      <th>Shares</th>\n      <th>Likes</th>\n      <th>Profile Visits</th>\n      <th>Follows</th>\n      <th>Caption</th>\n      <th>Hashtags</th>\n    </tr>\n  </thead>\n  <tbody>\n    <tr>\n      <th>0</th>\n      <td>3920.0</td>\n      <td>2586.0</td>\n      <td>1028.0</td>\n      <td>619.0</td>\n      <td>56.0</td>\n      <td>98.0</td>\n      <td>9.0</td>\n      <td>5.0</td>\n      <td>162.0</td>\n      <td>35.0</td>\n      <td>2.0</td>\n      <td>Here are some of the most important data visua...</td>\n      <td>#finance #money #business #investing #investme...</td>\n    </tr>\n    <tr>\n      <th>1</th>\n      <td>5394.0</td>\n      <td>2727.0</td>\n      <td>1838.0</td>\n      <td>1174.0</td>\n      <td>78.0</td>\n      <td>194.0</td>\n      <td>7.0</td>\n      <td>14.0</td>\n      <td>224.0</td>\n      <td>48.0</td>\n      <td>10.0</td>\n      <td>Here are some of the best data science project...</td>\n      <td>#healthcare #health #covid #data #datascience ...</td>\n    </tr>\n    <tr>\n      <th>2</th>\n      <td>4021.0</td>\n      <td>2085.0</td>\n      <td>1188.0</td>\n      <td>0.0</td>\n      <td>533.0</td>\n      <td>41.0</td>\n      <td>11.0</td>\n      <td>1.0</td>\n      <td>131.0</td>\n      <td>62.0</td>\n      <td>12.0</td>\n      <td>Learn how to train a machine learning model an...</td>\n      <td>#data #datascience #dataanalysis #dataanalytic...</td>\n    </tr>\n    <tr>\n      <th>3</th>\n      <td>4528.0</td>\n      <td>2700.0</td>\n      <td>621.0</td>\n      <td>932.0</td>\n      <td>73.0</td>\n      <td>172.0</td>\n      <td>10.0</td>\n      <td>7.0</td>\n      <td>213.0</td>\n      <td>23.0</td>\n      <td>8.0</td>\n      <td>Heres how you can write a Python program to d...</td>\n      <td>#python #pythonprogramming #pythonprojects #py...</td>\n    </tr>\n    <tr>\n      <th>4</th>\n      <td>2518.0</td>\n      <td>1704.0</td>\n      <td>255.0</td>\n      <td>279.0</td>\n      <td>37.0</td>\n      <td>96.0</td>\n      <td>5.0</td>\n      <td>4.0</td>\n      <td>123.0</td>\n      <td>8.0</td>\n      <td>0.0</td>\n      <td>Plotting annotations while visualizing your da...</td>\n      <td>#datavisualization #datascience #data #dataana...</td>\n    </tr>\n  </tbody>\n</table>\n</div>"
     },
     "execution_count": 12,
     "metadata": {},
     "output_type": "execute_result"
    }
   ],
   "source": [
    "data = pd.read_csv(\"Instagram.csv\", encoding = 'latin1')\n",
    "data.head()"
   ],
   "metadata": {
    "collapsed": false,
    "pycharm": {
     "name": "#%%\n"
    }
   }
  },
  {
   "cell_type": "markdown",
   "source": [
    "## Исключаем пустые значения из колонок"
   ],
   "metadata": {
    "collapsed": false,
    "pycharm": {
     "name": "#%% md\n"
    }
   }
  },
  {
   "cell_type": "code",
   "execution_count": 12,
   "outputs": [],
   "source": [],
   "metadata": {
    "collapsed": false,
    "pycharm": {
     "name": "#%%\n"
    }
   }
  },
  {
   "cell_type": "code",
   "execution_count": 12,
   "outputs": [],
   "source": [],
   "metadata": {
    "collapsed": false,
    "pycharm": {
     "name": "#%%\n"
    }
   }
  },
  {
   "cell_type": "raw",
   "source": [],
   "metadata": {
    "collapsed": false,
    "pycharm": {
     "name": "#%% raw\n"
    }
   }
  },
  {
   "cell_type": "markdown",
   "source": [
    "# Анализ профиля Instagram\n",
    "## Анализ охвата аудитории"
   ],
   "metadata": {
    "collapsed": false,
    "pycharm": {
     "name": "#%% md\n"
    }
   }
  },
  {
   "cell_type": "code",
   "execution_count": 12,
   "outputs": [],
   "source": [],
   "metadata": {
    "collapsed": false,
    "pycharm": {
     "name": "#%%\n"
    }
   }
  },
  {
   "cell_type": "markdown",
   "source": [
    "## Анализ контента"
   ],
   "metadata": {
    "collapsed": false,
    "pycharm": {
     "name": "#%% md\n"
    }
   }
  },
  {
   "cell_type": "code",
   "execution_count": 12,
   "outputs": [],
   "source": [],
   "metadata": {
    "collapsed": false,
    "pycharm": {
     "name": "#%%\n"
    }
   }
  },
  {
   "cell_type": "markdown",
   "source": [
    "## Анализ взаимосвязей"
   ],
   "metadata": {
    "collapsed": false,
    "pycharm": {
     "name": "#%% md\n"
    }
   }
  },
  {
   "cell_type": "code",
   "execution_count": 12,
   "outputs": [],
   "source": [],
   "metadata": {
    "collapsed": false,
    "pycharm": {
     "name": "#%%\n"
    }
   }
  },
  {
   "cell_type": "markdown",
   "source": [
    "## Анализ конверсий"
   ],
   "metadata": {
    "collapsed": false,
    "pycharm": {
     "name": "#%% md\n"
    }
   }
  },
  {
   "cell_type": "code",
   "execution_count": 12,
   "outputs": [],
   "source": [],
   "metadata": {
    "collapsed": false,
    "pycharm": {
     "name": "#%%\n"
    }
   }
  },
  {
   "cell_type": "markdown",
   "source": [
    "# ML-Модель для предсказания охвата Instagram аудитории\n",
    "Используем регрессию"
   ],
   "metadata": {
    "collapsed": false,
    "pycharm": {
     "name": "#%% md\n"
    }
   }
  },
  {
   "cell_type": "code",
   "execution_count": 12,
   "outputs": [],
   "source": [],
   "metadata": {
    "collapsed": false,
    "pycharm": {
     "name": "#%%\n"
    }
   }
  }
 ],
 "metadata": {
  "kernelspec": {
   "display_name": "Python 3",
   "language": "python",
   "name": "python3"
  },
  "language_info": {
   "codemirror_mode": {
    "name": "ipython",
    "version": 2
   },
   "file_extension": ".py",
   "mimetype": "text/x-python",
   "name": "python",
   "nbconvert_exporter": "python",
   "pygments_lexer": "ipython2",
   "version": "2.7.6"
  }
 },
 "nbformat": 4,
 "nbformat_minor": 0
}